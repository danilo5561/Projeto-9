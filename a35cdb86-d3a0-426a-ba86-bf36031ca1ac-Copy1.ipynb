{
 "cells": [
  {
   "cell_type": "markdown",
   "metadata": {},
   "source": [
    "### Descrição do Projeto\n",
    "#### Contexto\n",
    "Você é analista em uma grande loja online. Junto com o departamento de marketing, você compilou uma lista de hipóteses que podem ajudar a aumentar a receita.\n",
    "\n",
    "Você precisa priorizar essas hipóteses, lançar um teste A/B e analisar os resultados."
   ]
  },
  {
   "cell_type": "markdown",
   "metadata": {},
   "source": [
    "#### Descrição dos dados\n",
    "- Dados usados na primeira parte do projeto\n",
    "\n",
    "/datasets/hypotheses_us.csv Baixe o conjunto de dados\n",
    "\n",
    "Hypotheses — breves descrições das hipóteses\n",
    "Reach — alcance do usuário, em uma escala de um a dez\n",
    "Impact — impacto nos usuários, em uma escala de um a dez\n",
    "Confidence — confiança na hipótese, em uma escala de um a dez\n",
    "Effort — os recursos necessários para testar uma hipótese, em uma escala de um a dez. Quanto maior o valor de Effort, mais recursos são necessários para o teste.\n",
    "\n",
    "- Dados usados na segunda parte do projeto\n",
    "\n",
    " /datasets/orders_us.csv Baixe o conjunto de dados\n",
    "\n",
    "transactionId — identificador do pedido\n",
    "visitorId — identificador do usuário que fez o pedido\n",
    "date — do pedido\n",
    "revenue — do pedido\n",
    "group — o grupo de teste A/B ao qual o usuário pertence\n",
    "/datasets/visits_us.csv Baixe o conjunto de dados\n",
    "\n",
    "date — data\n",
    "group — grupo de teste A/B\n",
    "visits — o número de visitas na data especificada para o grupo de teste A/B especificado\n",
    "\n",
    "*Certifique-se de pré-processar os dados. Pode haver erros nos conjuntos de dados originais; por exemplo, alguns dos visitantes podem ter entrado no grupo A e no grupo B.*\n",
    "\n",
    "#### Parte 1. Priorizando Hipóteses\n",
    "O arquivo hypotheses_us.csv contém nove hipóteses para aumentar a receita de uma loja online com Reach, Impact, Confidence e Effort especificados para cada um.\n",
    "\n",
    "A tarefa é:\n",
    "\n",
    "- Aplicar o framework ICE para priorizar hipóteses. Classifique-os em ordem decrescente de prioridade.\n",
    "- Aplicar o framework RICE para priorizar hipóteses. Classifique-os em ordem decrescente de prioridade.\n",
    "Mostre como a priorização de hipóteses muda quando você usa RICE em vez de ICE. Dê uma explicação para as alterações.\n",
    "\n",
    "Parte 2. Análise de teste A/B\n",
    "- Você realizou um teste A/B e obteve os resultados descritos nos arquivos orders_us.csv e visitors_us.csv.\n",
    "\n",
    "Tarefa\n",
    "\n",
    "Analise o teste A/B:\n",
    "\n",
    "- Faça um gráfico da receita acumulada por grupo. Tire conclusões e crie conjecturas.\n",
    "- Faça um gráfico do tamanho médio acumulado do pedido por grupo. Tire conclusões e crie conjecturas.\n",
    "- Faça um gráfico da diferença relativa no tamanho médio acumulado do pedido para o grupo B em comparação com o grupo A. Faça conclusões e crie conjecturas.\n",
    "- Calcule a taxa de conversão de cada grupo como a proporção de pedidos para o número de visitas para cada dia. Trace as taxas de conversão diárias dos dois grupos e descreva a diferença. Tire conclusões e crie conjecturas.\n",
    "- Faça um gráfico da diferença relativa na conversão cumulativa para o grupo B em comparação com o grupo A. Tire conclusões e crie conjecturas.\n",
    "- Calcule os percentis 95 e 99 para o número de pedidos por usuário. Defina o ponto em que um ponto de dados se torna uma anomalia.\n",
    "- Faça um gráfico de dispersão dos preços dos pedidos. Tire conclusões e crie conjecturas.\n",
    "- Calcule os percentis 95 e 99 dos preços dos pedidos. Defina o ponto em que um ponto de dados se torna uma anomalia.\n",
    "- Encontre a significância estatística da diferença na conversão entre os grupos usando os dados brutos. Tire conclusões e crie conjecturas.\n",
    "- Encontre a significância estatística da diferença no tamanho médio do pedido entre os grupos usando os dados brutos. Tire conclusões e crie conjecturas.\n",
    "- Encontre a significância estatística da diferença na conversão entre os grupos usando os dados filtrados. Tire conclusões e crie conjecturas.\n",
    "- Encontre a significância estatística da diferença no tamanho médio do pedido entre os grupos usando os dados filtrados. Tire conclusões e crie conjecturas.\n",
    "- Tome uma decisão com base nos resultados do teste. As decisões possíveis são: 1. Pare o teste, considere um dos grupos o líder. 2. Pare o teste, conclua que não há diferença entre os grupos. 3. Continue o teste."
   ]
  },
  {
   "cell_type": "code",
   "execution_count": 157,
   "metadata": {},
   "outputs": [],
   "source": [
    "# Importando as Bibliotecas:\n",
    "\n",
    "import pandas as pd\n",
    "import numpy as np\n",
    "import matplotlib.pyplot as plt\n",
    "import math as mth\n",
    "import datetime as dt\n",
    "import scipy.stats as stats"
   ]
  },
  {
   "cell_type": "code",
   "execution_count": 135,
   "metadata": {},
   "outputs": [],
   "source": [
    "# Baixando conjunto de dados:\n",
    "\n",
    "hypotheses = pd.read_csv('/datasets/hypotheses_us.csv', sep=';')\n",
    "orders = pd.read_csv('/datasets/orders_us.csv', sep=',', parse_dates = ['date'])\n",
    "visits = pd.read_csv('/datasets/visits_us.csv', sep=',', parse_dates = ['date'])"
   ]
  },
  {
   "cell_type": "code",
   "execution_count": 136,
   "metadata": {},
   "outputs": [
    {
     "name": "stdout",
     "output_type": "stream",
     "text": [
      "<class 'pandas.core.frame.DataFrame'>\n",
      "RangeIndex: 9 entries, 0 to 8\n",
      "Data columns (total 5 columns):\n",
      " #   Column      Non-Null Count  Dtype \n",
      "---  ------      --------------  ----- \n",
      " 0   Hypothesis  9 non-null      object\n",
      " 1   Reach       9 non-null      int64 \n",
      " 2   Impact      9 non-null      int64 \n",
      " 3   Confidence  9 non-null      int64 \n",
      " 4   Effort      9 non-null      int64 \n",
      "dtypes: int64(4), object(1)\n",
      "memory usage: 488.0+ bytes\n"
     ]
    }
   ],
   "source": [
    "hypotheses.info()"
   ]
  },
  {
   "cell_type": "code",
   "execution_count": 137,
   "metadata": {},
   "outputs": [
    {
     "name": "stdout",
     "output_type": "stream",
     "text": [
      "<class 'pandas.core.frame.DataFrame'>\n",
      "RangeIndex: 1197 entries, 0 to 1196\n",
      "Data columns (total 5 columns):\n",
      " #   Column         Non-Null Count  Dtype         \n",
      "---  ------         --------------  -----         \n",
      " 0   transactionId  1197 non-null   int64         \n",
      " 1   visitorId      1197 non-null   int64         \n",
      " 2   date           1197 non-null   datetime64[ns]\n",
      " 3   revenue        1197 non-null   float64       \n",
      " 4   group          1197 non-null   object        \n",
      "dtypes: datetime64[ns](1), float64(1), int64(2), object(1)\n",
      "memory usage: 46.9+ KB\n"
     ]
    }
   ],
   "source": [
    "orders.info()"
   ]
  },
  {
   "cell_type": "code",
   "execution_count": 138,
   "metadata": {},
   "outputs": [
    {
     "name": "stdout",
     "output_type": "stream",
     "text": [
      "<class 'pandas.core.frame.DataFrame'>\n",
      "RangeIndex: 62 entries, 0 to 61\n",
      "Data columns (total 3 columns):\n",
      " #   Column  Non-Null Count  Dtype         \n",
      "---  ------  --------------  -----         \n",
      " 0   date    62 non-null     datetime64[ns]\n",
      " 1   group   62 non-null     object        \n",
      " 2   visits  62 non-null     int64         \n",
      "dtypes: datetime64[ns](1), int64(1), object(1)\n",
      "memory usage: 1.6+ KB\n"
     ]
    }
   ],
   "source": [
    "visits.info()"
   ]
  },
  {
   "cell_type": "code",
   "execution_count": 139,
   "metadata": {},
   "outputs": [
    {
     "name": "stdout",
     "output_type": "stream",
     "text": [
      "                                          Hypothesis  Reach  Impact  \\\n",
      "0  Add two new channels for attracting traffic. T...      3      10   \n",
      "1  Launch your own delivery service. This will sh...      2       5   \n",
      "2  Add product recommendation blocks to the store...      8       3   \n",
      "3  Change the category structure. This will incre...      8       3   \n",
      "4  Change the background color on the main page. ...      3       1   \n",
      "\n",
      "   Confidence  Effort  \n",
      "0           8       6  \n",
      "1           4      10  \n",
      "2           7       3  \n",
      "3           3       8  \n",
      "4           1       1  \n"
     ]
    }
   ],
   "source": [
    "# vendo amostra dos dados\n",
    "\n",
    "print(hypotheses.head())"
   ]
  },
  {
   "cell_type": "code",
   "execution_count": 140,
   "metadata": {},
   "outputs": [
    {
     "name": "stdout",
     "output_type": "stream",
     "text": [
      "   transactionId   visitorId       date  revenue group\n",
      "0     3667963787  3312258926 2019-08-15     30.4     B\n",
      "1     2804400009  3642806036 2019-08-15     15.2     B\n",
      "2     2961555356  4069496402 2019-08-15     10.2     A\n",
      "3     3797467345  1196621759 2019-08-15    155.1     B\n",
      "4     2282983706  2322279887 2019-08-15     40.5     B\n"
     ]
    }
   ],
   "source": [
    "print(orders.head())"
   ]
  },
  {
   "cell_type": "code",
   "execution_count": 141,
   "metadata": {},
   "outputs": [
    {
     "name": "stdout",
     "output_type": "stream",
     "text": [
      "        date group  visits\n",
      "0 2019-08-01     A     719\n",
      "1 2019-08-02     A     619\n",
      "2 2019-08-03     A     507\n",
      "3 2019-08-04     A     717\n",
      "4 2019-08-05     A     756\n"
     ]
    }
   ],
   "source": [
    "print(visits.head())"
   ]
  },
  {
   "cell_type": "code",
   "execution_count": 142,
   "metadata": {},
   "outputs": [
    {
     "name": "stdout",
     "output_type": "stream",
     "text": [
      "  group  visitorId  transactionId\n",
      "0     A        557            557\n",
      "1     B        640            640\n",
      "[4069496402  199603092 3803269165 2378935119  237748145 4256040402\n",
      " 2038680547 1738359350 2458001652 3891541246 2716752286 3656415546\n",
      " 2686716486 2954449915 2927087541 3234906277  457167155 2579882178\n",
      " 3957174400 1648269707 2780786433  818047933 2044997962 1959144690\n",
      " 3202540741 1333886533  351125977 3951559397  393266494 3984495233\n",
      " 4120364173 4266935830 1230306981 1294878855 1614305549    8300375\n",
      "  477780734 1668030113 3717692402 3766097110 3941795274  471551937\n",
      " 1316129916 1801183820 1602967004 2587333274 2600415354  232979603\n",
      " 3972127743 1404934699  276558944 3062433592 2654030115 3963646447\n",
      " 4186807279 2712142231 2949041841  963407295]\n"
     ]
    }
   ],
   "source": [
    "# verificando se há algum usuário que entrou nos dois grupos A e B:\n",
    "group_verification = (orders.drop(['date'], axis=1)).groupby('group', as_index=False).agg({'visitorId': 'count', 'transactionId': 'count'}) #eliminando date para evitar erros pandas.\n",
    "print(group_verification)\n",
    "\n",
    "# Verificando se existem usuarios repetidos nos grupos:\n",
    "group_a = orders[orders['group'] == 'A']['visitorId']\n",
    "group_b = orders[orders['group'] == 'B']['visitorId']\n",
    "users_a_b = group_a[group_a.isin(group_b)].unique()\n",
    "print(users_a_b)"
   ]
  },
  {
   "cell_type": "markdown",
   "metadata": {},
   "source": [
    "#### Resposta do Aluno: \n",
    "#### Para evitar eventuais erros, vai ser necessário excluir os usuários em ambos os grupos, visto que não posso determinar em qual grupo cada usuário deve permanecer"
   ]
  },
  {
   "cell_type": "code",
   "execution_count": 143,
   "metadata": {},
   "outputs": [
    {
     "name": "stdout",
     "output_type": "stream",
     "text": [
      "  group  visitorId  transactionId\n",
      "0     A        468            468\n",
      "1     B        548            548\n"
     ]
    }
   ],
   "source": [
    "# retirando os usuarios duplicados no df orders\n",
    "\n",
    "orders = orders[~orders['visitorId'].isin(users_a_b)]\n",
    "\n",
    "# Verificando novamente a contagem:\n",
    "group_verification = (orders.drop(['date'], axis=1)).groupby('group', as_index=False).agg({'visitorId': 'count', 'transactionId': 'count'}) #eliminando date para evitar erros pandas.\n",
    "print(group_verification)"
   ]
  },
  {
   "cell_type": "markdown",
   "metadata": {},
   "source": [
    "#### Resposta do aluno:  Ok, o dataframe já esta pronto para a próxima etapa do teste"
   ]
  },
  {
   "cell_type": "code",
   "execution_count": 144,
   "metadata": {},
   "outputs": [
    {
     "name": "stdout",
     "output_type": "stream",
     "text": [
      "                                          Hypothesis        ICE\n",
      "4  Change the background color on the main page. ...   1.000000\n",
      "3  Change the category structure. This will incre...   1.125000\n",
      "5  Add a customer review page. This will increase...   1.333333\n",
      "1  Launch your own delivery service. This will sh...   2.000000\n",
      "2  Add product recommendation blocks to the store...   7.000000\n",
      "6  Show banners with current offers and sales on ...   8.000000\n",
      "7  Add a subscription form to all the main pages....  11.200000\n",
      "0  Add two new channels for attracting traffic. T...  13.333333\n",
      "8  Launch a promotion that gives users discounts ...  16.200000\n"
     ]
    }
   ],
   "source": [
    "# Parte 1º\n",
    "# Hipoteses para aumentar a receita:\n",
    "# Aplicar o framework ICE para priorizar hipóteses. Classifique-os em ordem decrescente de prioridade. Impacto  x Confiança x facilidade\n",
    "\n",
    "hypotheses['ICE']= (hypotheses['Impact'] * hypotheses['Confidence']) / hypotheses['Effort']\n",
    "print(hypotheses[['Hypothesis', 'ICE']].sort_values(by='ICE', ascending=True))"
   ]
  },
  {
   "cell_type": "code",
   "execution_count": 145,
   "metadata": {},
   "outputs": [
    {
     "name": "stdout",
     "output_type": "stream",
     "text": [
      "                                          Hypothesis   RICE\n",
      "4  Change the background color on the main page. ...    3.0\n",
      "1  Launch your own delivery service. This will sh...    4.0\n",
      "5  Add a customer review page. This will increase...    4.0\n",
      "3  Change the category structure. This will incre...    9.0\n",
      "8  Launch a promotion that gives users discounts ...   16.2\n",
      "0  Add two new channels for attracting traffic. T...   40.0\n",
      "6  Show banners with current offers and sales on ...   40.0\n",
      "2  Add product recommendation blocks to the store...   56.0\n",
      "7  Add a subscription form to all the main pages....  112.0\n"
     ]
    }
   ],
   "source": [
    "# Aplicar o framework RICE para priorizar hipóteses. Classifique-os em ordem decrescente de prioridade.\n",
    "\n",
    "hypotheses['RICE'] = (hypotheses['Reach'] * hypotheses['Impact'] * hypotheses['Confidence']) / hypotheses['Effort']\n",
    "print(hypotheses[['Hypothesis', 'RICE']].sort_values(by='RICE', ascending=True))"
   ]
  },
  {
   "cell_type": "code",
   "execution_count": 146,
   "metadata": {
    "scrolled": true
   },
   "outputs": [
    {
     "data": {
      "image/png": "[encoded data removed]",
      "text/plain": [
       "<Figure size 1000x600 with 1 Axes>"
      ]
     },
     "metadata": {},
     "output_type": "display_data"
    }
   ],
   "source": [
    "# Mostre como a priorização de hipóteses muda quando você usa RICE em vez de ICE. Dê uma explicação para as alterações.\n",
    "hypotheses = hypotheses.sort_values(by='RICE', ascending=True)\n",
    "plt.figure(figsize=(10, 6))\n",
    "plt.barh(hypotheses['Hypothesis'], hypotheses['ICE'], color='red', label='ICE')\n",
    "plt.barh(hypotheses['Hypothesis'], hypotheses['RICE'], color='purple', alpha=0.6, label='RICE')\n",
    "\n",
    "plt.xlabel('Score ICE x RICE')\n",
    "plt.ylabel('Hipóteses')\n",
    "plt.title('Hipoteses ICE x RICE')\n",
    "plt.legend()\n",
    "plt.show()"
   ]
  },
  {
   "cell_type": "markdown",
   "metadata": {},
   "source": [
    "#### Resposta do aluno: \n",
    "#### Priorizando a hipotese RICE, temos uma mudança na ordem de prioridade, segundo o estudo, o primeiro passo seria adcionar um formulario de inscrição em todas as primeiras páginas, seguido pela recomendação de produtos em blocos, acredito que o 'alcance', tem maior impacto na combinação de fatores, determinando a escala apresentada no gráfico."
   ]
  },
  {
   "cell_type": "code",
   "execution_count": 147,
   "metadata": {},
   "outputs": [],
   "source": [
    "# Parte 2º\n",
    "# Você realizou um teste A/B e obteve os resultados descritos nos arquivos orders_us.csv e visitors_us.csv"
   ]
  },
  {
   "cell_type": "code",
   "execution_count": 148,
   "metadata": {
    "scrolled": false
   },
   "outputs": [
    {
     "name": "stdout",
     "output_type": "stream",
     "text": [
      "        date group  orders  buyers  revenue  visitors\n",
      "0 2019-08-01     A      23      19   2266.6       719\n",
      "1 2019-08-01     B      17      17    967.2       713\n",
      "2 2019-08-02     A      42      36   3734.9      1338\n",
      "3 2019-08-02     B      40      39   3535.3      1294\n",
      "4 2019-08-03     A      66      60   5550.1      1845\n"
     ]
    },
    {
     "data": {
      "image/png": "[encoded data removed]",
      "text/plain": [
       "<Figure size 400x400 with 1 Axes>"
      ]
     },
     "metadata": {},
     "output_type": "display_data"
    }
   ],
   "source": [
    "# Analise o teste A/B:\n",
    "\n",
    "# Faça um gráfico da receita acumulada por grupo. Tire conclusões e crie conjecturas.\n",
    "date_group = orders[['date', 'group']].drop_duplicates()\n",
    "\n",
    "orders_aggregated = date_group.apply(\n",
    "    lambda x: orders[\n",
    "        np.logical_and(orders['date'] <= x['date'], orders['group'] == x['group'])\n",
    "    ].agg({\n",
    "        'date': 'max',\n",
    "        'group': 'max',\n",
    "        'transactionId': pd.Series.nunique,\n",
    "        'visitorId': pd.Series.nunique,\n",
    "        'revenue': 'sum'\n",
    "    }),\n",
    "    axis=1\n",
    ").sort_values(by=['date', 'group'])\n",
    "\n",
    "visits_aggregated = date_group.apply(\n",
    "    lambda x: visits[\n",
    "        np.logical_and(visits['date'] <= x['date'], visits['group'] == x['group'])\n",
    "    ].agg({\n",
    "        'date': 'max',\n",
    "        'group': 'max',\n",
    "        'visits': 'sum',\n",
    "    }),\n",
    "    axis=1\n",
    ").sort_values(by=['date', 'group'])\n",
    "\n",
    "cumulative_data = orders_aggregated.merge(visits_aggregated, left_on=['date', 'group'], right_on=['date', 'group'])\n",
    "cumulative_data.columns = ['date', 'group', 'orders', 'buyers', 'revenue', 'visitors']\n",
    "\n",
    "print(cumulative_data.head(5))\n",
    "\n",
    "cumulative_revenue_A = cumulative_data[cumulative_data['group']=='A'][['date','revenue', 'orders']]\n",
    "cumulative_revenue_B = cumulative_data[cumulative_data['group']=='B'][['date','revenue', 'orders']]\n",
    "\n",
    "\n",
    "plt.figure(figsize=(4, 4))\n",
    "plt.plot(cumulative_revenue_A['date'], cumulative_revenue_A['revenue'], label='A')\n",
    "plt.plot(cumulative_revenue_B['date'], cumulative_revenue_B['revenue'], label='B')\n",
    "\n",
    "plt.legend()\n",
    "plt.xticks(rotation=45)\n",
    "plt.show()"
   ]
  },
  {
   "cell_type": "markdown",
   "metadata": {},
   "source": [
    "#### Resposta do Aluno: \n",
    "#### Acima, grafico de receita acumulada por grupo, grupo B teve uma receita maior que o grupo A (no período de um mês). Ou seja o período pode ser curto, ou adequado para tomar alguma atitude, contudo será necessário desenvolver estudos mais aprofundados.  "
   ]
  },
  {
   "cell_type": "code",
   "execution_count": 149,
   "metadata": {
    "scrolled": false
   },
   "outputs": [
    {
     "data": {
      "image/png": "[encoded data removed]",
      "text/plain": [
       "<Figure size 400x400 with 1 Axes>"
      ]
     },
     "metadata": {},
     "output_type": "display_data"
    }
   ],
   "source": [
    "#Faça um gráfico do tamanho médio acumulado do pedido por grupo. Tire conclusões e crie conjecturas.\n",
    "\n",
    "plt.figure(figsize=(4, 4))\n",
    "plt.plot(cumulative_revenue_A['date'], cumulative_revenue_A['revenue']/cumulative_revenue_A['orders'], label='A')\n",
    "plt.plot(cumulative_revenue_B['date'], cumulative_revenue_B['revenue']/cumulative_revenue_B['orders'], label='B')\n",
    "plt.xticks(rotation=45)\n",
    "plt.legend()\n",
    "plt.show()"
   ]
  },
  {
   "cell_type": "markdown",
   "metadata": {},
   "source": [
    "#### Resposta do Aluno: Os valores médios dos pedidos do grupo B, foram maiores do que o grupo A no período de estudo, acredito que esse fator tem total relevância no estudo anterior, pois o grupo B também apresentou uma receita maior."
   ]
  },
  {
   "cell_type": "code",
   "execution_count": 150,
   "metadata": {},
   "outputs": [
    {
     "data": {
      "image/png": "[encoded data removed]",
      "text/plain": [
       "<Figure size 640x480 with 1 Axes>"
      ]
     },
     "metadata": {},
     "output_type": "display_data"
    }
   ],
   "source": [
    "#Faça um gráfico da diferença relativa no tamanho médio acumulado do pedido para o grupo B em comparação com o grupo A. Faça conclusões e crie conjecturas.\n",
    "\n",
    "merged_cumulative_revenue = cumulative_revenue_A.merge(cumulative_revenue_B, left_on='date', right_on='date', how='left', suffixes=['A', 'B'])\n",
    "\n",
    "plt.plot(merged_cumulative_revenue['date'], (merged_cumulative_revenue['revenueB']/merged_cumulative_revenue['ordersB'])/(merged_cumulative_revenue['revenueA']/merged_cumulative_revenue['ordersA'])-1)\n",
    "plt.axhline(y=0, color='black', linestyle='--')\n",
    "plt.xticks(rotation=45)\n",
    "plt.show()"
   ]
  },
  {
   "cell_type": "markdown",
   "metadata": {},
   "source": [
    "#### Resposta do aluno: \n",
    "#### O gráfico apresenta o comparativo de performance dos dois grupos, no gráfico foi inserido uma marcação tracejada, que está próximo do 0.0, teoricamente isso signiica que os grupos tendem a ter uma performance similar, e o que pode estar ocasionanco uma discrepância, pode ser pedidos atípicos, com valores muito maiores que o convencional"
   ]
  },
  {
   "cell_type": "code",
   "execution_count": 151,
   "metadata": {},
   "outputs": [
    {
     "data": {
      "text/plain": [
       "<matplotlib.legend.Legend at 0x7f7435346df0>"
      ]
     },
     "execution_count": 151,
     "metadata": {},
     "output_type": "execute_result"
    },
    {
     "data": {
      "image/png": "[encoded data removed]",
      "text/plain": [
       "<Figure size 500x300 with 1 Axes>"
      ]
     },
     "metadata": {},
     "output_type": "display_data"
    }
   ],
   "source": [
    "#Calcule a taxa de conversão de cada grupo como a proporção de pedidos para o número de visitas para cada dia. Trace as taxas de conversão diárias dos dois grupos e descreva a diferença. Tire conclusões e crie conjecturas.\n",
    "\n",
    "cumulative_data['conversion'] = cumulative_data['orders']/cumulative_data['visitors']\n",
    "#grupo A\n",
    "cumulative_data_A = cumulative_data[cumulative_data['group']=='A']\n",
    "#grupo B\n",
    "cumulative_data_B = cumulative_data[cumulative_data['group']=='B']\n",
    "\n",
    "plt.figure(figsize=(5, 3))\n",
    "plt.plot(cumulative_data_A['date'], cumulative_data_A['conversion'], label='A')\n",
    "plt.plot(cumulative_data_B['date'], cumulative_data_B['conversion'], label='B')\n",
    "plt.xticks(rotation=45)\n",
    "plt.legend()\n"
   ]
  },
  {
   "cell_type": "markdown",
   "metadata": {},
   "source": [
    "#### Resposta do aluno: o grupo B apresentou um crescimento e uma estabilização na conversão conforme as visitas e o passar dos dias e o grupo A teve um pico muito grande no começo do mês, e teve uma queda e permaneceu em baixa até o final do período."
   ]
  },
  {
   "cell_type": "code",
   "execution_count": 152,
   "metadata": {},
   "outputs": [
    {
     "data": {
      "text/plain": [
       "<matplotlib.lines.Line2D at 0x7f74352c6130>"
      ]
     },
     "execution_count": 152,
     "metadata": {},
     "output_type": "execute_result"
    },
    {
     "data": {
      "image/png": "[encoded data removed]",
      "text/plain": [
       "<Figure size 640x480 with 1 Axes>"
      ]
     },
     "metadata": {},
     "output_type": "display_data"
    }
   ],
   "source": [
    "#Faça um gráfico da diferença relativa na conversão cumulativa para o grupo B em comparação com o grupo A. Tire conclusões e crie conjecturas.\n",
    "\n",
    "merged_cumulative_conversions = cumulative_data_A[['date','conversion']].merge(cumulative_data_B[['date','conversion']], left_on='date', right_on='date', how='left', suffixes=['A', 'B'])\n",
    "\n",
    "plt.plot(merged_cumulative_conversions['date'], merged_cumulative_conversions['conversionB']/merged_cumulative_conversions['conversionA']-1)\n",
    "plt.xticks(rotation=45)\n",
    "plt.axhline(y=0, color='black', linestyle='--')\n",
    "plt.axhline(y=-0.1, color='grey', linestyle='--')\n"
   ]
  },
  {
   "cell_type": "markdown",
   "metadata": {},
   "source": [
    "#### Resposta do aluno: \n",
    "#### O grupo B teve um desempenho consistente superior em relação a média conversão acumulada do grupo A."
   ]
  },
  {
   "cell_type": "code",
   "execution_count": 153,
   "metadata": {},
   "outputs": [
    {
     "name": "stdout",
     "output_type": "stream",
     "text": [
      "         userId  orders\n",
      "908  3967698036       3\n",
      "55    249864742       3\n",
      "478  2108163459       3\n",
      "687  2988190573       3\n",
      "890  3908431265       3\n",
      "138   611059232       3\n",
      "632  2742574263       3\n",
      "157   678354126       2\n",
      "323  1404560065       2\n",
      "452  1985475298       2\n",
      "[1. 2.]\n"
     ]
    }
   ],
   "source": [
    "#Calcule os percentis 95 e 99 para o número de pedidos por usuário. \n",
    "# Defina o ponto em que um ponto de dados se torna uma anomalia.\n",
    "\n",
    "#levantamento dos pedidos por usuarios:\n",
    "orders_by_users = (\n",
    "    orders.drop(['group', 'revenue', 'date'], axis=1)\n",
    "    .groupby('visitorId', as_index=False)\n",
    "    .agg({'transactionId': pd.Series.nunique})\n",
    ")\n",
    "\n",
    "orders_by_users.columns = ['userId', 'orders']\n",
    "\n",
    "print(orders_by_users.sort_values(by='orders', ascending=False).head(10))\n",
    "print(np.percentile(orders_by_users['orders'], [95, 99]))"
   ]
  },
  {
   "cell_type": "markdown",
   "metadata": {},
   "source": [
    "#### Resposta do aluno: \n",
    "#### 95% dos usuários fizeram até 1 pedido único, 99% dos usuários fizeram até 2 pedidos únicos, não posso considerar anomalia o cliente realizar até 3 pedidos no mês."
   ]
  },
  {
   "cell_type": "code",
   "execution_count": 154,
   "metadata": {},
   "outputs": [
    {
     "data": {
      "text/plain": [
       "<matplotlib.collections.PathCollection at 0x7f7435304c10>"
      ]
     },
     "execution_count": 154,
     "metadata": {},
     "output_type": "execute_result"
    },
    {
     "data": {
      "image/png": "[encoded data removed]",
      "text/plain": [
       "<Figure size 400x200 with 1 Axes>"
      ]
     },
     "metadata": {},
     "output_type": "display_data"
    }
   ],
   "source": [
    "#Faça um gráfico de dispersão dos preços dos pedidos. Tire conclusões e crie conjecturas.\n",
    "\n",
    "x_values = pd.Series(range(0, len(orders['revenue'])))\n",
    "plt.figure(figsize=(4, 2))\n",
    "plt.scatter(x_values, orders['revenue'])"
   ]
  },
  {
   "cell_type": "markdown",
   "metadata": {},
   "source": [
    "#### Resposta do aluno: Tem um pedido com um valor muito alto, totalmente atípico dos demais.."
   ]
  },
  {
   "cell_type": "code",
   "execution_count": 155,
   "metadata": {},
   "outputs": [
    {
     "name": "stdout",
     "output_type": "stream",
     "text": [
      "          order  revenue\n",
      "143   590470918  19920.4\n",
      "939  3936777065   3120.1\n",
      "161   666610489   1425.8\n",
      "875  3668308183   1335.6\n",
      "850  3603576309   1050.0\n",
      "[414.275 830.3  ]\n"
     ]
    }
   ],
   "source": [
    "# Calcule os percentis 95 e 99 dos preços dos pedidos. Defina o ponto em que um ponto de dados se torna uma anomalia.\n",
    "\n",
    "revenue_orders = (\n",
    "    orders.drop(['date'], axis=1)\n",
    "    .groupby('transactionId', as_index=False)\n",
    "    .agg({'revenue': 'sum'})  \n",
    ")\n",
    "\n",
    "revenue_orders.columns = ['order', 'revenue']\n",
    "\n",
    "print(revenue_orders.sort_values(by='revenue', ascending=False).head())\n",
    "print(np.percentile(revenue_orders['revenue'], [95, 99]))\n"
   ]
  },
  {
   "cell_type": "markdown",
   "metadata": {},
   "source": [
    "#### Resposta do aluno: O pedido de número 59040918 no valor de 19mil, é totalmente atipíco, e esta provavelmente desbalanceando o estudo dos dados, não podemos considerar esse pedido, pois o valor o percentil de 99% é 830,30"
   ]
  },
  {
   "cell_type": "code",
   "execution_count": 166,
   "metadata": {},
   "outputs": [
    {
     "name": "stdout",
     "output_type": "stream",
     "text": [
      "0.011\n",
      "0.160\n"
     ]
    }
   ],
   "source": [
    "# Encontre a significância estatística da diferença na conversão entre os grupos usando os dados brutos. \n",
    "# Tire conclusões e crie conjecturas.\n",
    "\n",
    "orders_users_A = orders[orders['group']=='A'].groupby('visitorId', as_index=False).agg({'transactionId' : pd.Series.nunique})\n",
    "orders_users_A.columns = ['userId', 'orders']\n",
    "\n",
    "orders_users_B = orders[orders['group']=='B'].groupby('visitorId', as_index=False).agg({'transactionId' : pd.Series.nunique})\n",
    "orders_users_B.columns = ['userId', 'orders']\n",
    "\n",
    "pd.Series(0, index=np.arange(visits[visits['group']=='A']['visits'].sum() - len(orders_users_A['orders'])), name='orders')\n",
    "[orders_users_A['orders'],pd.Series(0, index=np.arange(visits[visits['group']=='A']['visits'].sum() - len(orders_users_A['orders'])), name='orders')]\n",
    "\n",
    "sampleA = pd.concat([orders_users_A['orders'],pd.Series(0, index=np.arange(visits[visits['group']=='A']['visits'].sum() - len(orders_users_A['orders'])), name='orders')],axis=0)\n",
    "sampleB = pd.concat([orders_users_B['orders'],pd.Series(0, index=np.arange(visits[visits['group']=='B']['visits'].sum() - len(orders_users_B['orders'])), name='orders')],axis=0)\n",
    "\n",
    "print(\"{0:.3f}\".format(stats.mannwhitneyu(sampleA, sampleB)[1]))\n",
    "print(\"{0:.3f}\".format(sampleB.mean()/sampleA.mean()-1))"
   ]
  },
  {
   "cell_type": "markdown",
   "metadata": {},
   "source": [
    "#### Resposta do aluno: não existe uma diferença significativa na conversão, contudo o grupo B é 16% maior que o grupo A (dados brutos)"
   ]
  },
  {
   "cell_type": "code",
   "execution_count": 167,
   "metadata": {},
   "outputs": [
    {
     "name": "stdout",
     "output_type": "stream",
     "text": [
      "0.862\n",
      "0.278\n"
     ]
    }
   ],
   "source": [
    "# Encontre a significância estatística da diferença no tamanho médio do pedido entre os grupos usando os dados brutos. \n",
    "# Tire conclusões e crie conjecturas.\n",
    "\n",
    "print('{0:.3f}'.format(\n",
    "        stats.mannwhitneyu(\n",
    "            orders[orders['group'] == 'A']['revenue'],\n",
    "            orders[orders['group'] == 'B']['revenue'],\n",
    "        )[1]))\n",
    "print('{0:.3f}'.format(\n",
    "        orders[orders['group'] == 'B']['revenue'].mean()\n",
    "        / orders[orders['group'] == 'A']['revenue'].mean()\n",
    "        - 1))"
   ]
  },
  {
   "cell_type": "markdown",
   "metadata": {},
   "source": [
    "#### Resposta do aluno: existe diferença na significancia estatistica do tamanho médio dos pedidos entre os grupos, e a diferença relativa é mais de 8% (dados brutos)"
   ]
  },
  {
   "cell_type": "code",
   "execution_count": 165,
   "metadata": {},
   "outputs": [
    {
     "name": "stdout",
     "output_type": "stream",
     "text": [
      "0.012\n",
      "0.158\n"
     ]
    }
   ],
   "source": [
    "# Encontre a significância estatística da diferença na conversão entre os grupos usando os dados filtrados. \n",
    "# Tire conclusões e crie conjecturas.\n",
    "limite_superior = 19000\n",
    "revenue_orders_filter = orders[orders['revenue'] <= limite_superior]\n",
    "\n",
    "orders_users_A = revenue_orders_filter[revenue_orders_filter['group']=='A'].groupby('visitorId', as_index=False).agg({'transactionId' : pd.Series.nunique})\n",
    "orders_users_A.columns = ['userId', 'orders']\n",
    "\n",
    "orders_users_B = revenue_orders_filter[revenue_orders_filter['group']=='B'].groupby('visitorId', as_index=False).agg({'transactionId' : pd.Series.nunique})\n",
    "orders_users_B.columns = ['userId', 'orders']\n",
    "\n",
    "pd.Series(0, index=np.arange(visits[visits['group']=='A']['visits'].sum() - len(orders_users_A['orders'])), name='orders')\n",
    "[orders_users_A['orders'],pd.Series(0, index=np.arange(visits[visits['group']=='A']['visits'].sum() - len(orders_users_A['orders'])), name='orders')]\n",
    "\n",
    "sampleA = pd.concat([orders_users_A['orders'],pd.Series(0, index=np.arange(visits[visits['group']=='A']['visits'].sum() - len(orders_users_A['orders'])), name='orders')],axis=0)\n",
    "sampleB = pd.concat([orders_users_B['orders'],pd.Series(0, index=np.arange(visits[visits['group']=='B']['visits'].sum() - len(orders_users_B['orders'])), name='orders')],axis=0)\n",
    "\n",
    "print(\"{0:.3f}\".format(stats.mannwhitneyu(sampleA, sampleB)[1]))\n",
    "print(\"{0:.3f}\".format(sampleB.mean()/sampleA.mean()-1))"
   ]
  },
  {
   "cell_type": "markdown",
   "metadata": {},
   "source": [
    "#### Já tivemos uma mudança no resultado em relação ao primeiro caso."
   ]
  },
  {
   "cell_type": "code",
   "execution_count": 162,
   "metadata": {},
   "outputs": [
    {
     "name": "stdout",
     "output_type": "stream",
     "text": [
      "0.823\n",
      "-0.040\n"
     ]
    }
   ],
   "source": [
    "# Encontre a significância estatística da diferença no tamanho médio do pedido entre os grupos usando os dados filtrados. \n",
    "# Tire conclusões e crie conjecturas.\n",
    "\n",
    "# para encontrar a significância estatista, preciso excluir os valores anômalos.\n",
    "# pedido anômalo já identificado.\n",
    "limite_superior = 19000\n",
    "revenue_orders_filter = orders[orders['revenue'] <= limite_superior]\n",
    "\n",
    "print('{0:.3f}'.format(\n",
    "        stats.mannwhitneyu(\n",
    "            revenue_orders_filter[revenue_orders_filter['group'] == 'A']['revenue'],\n",
    "            revenue_orders_filter[revenue_orders_filter['group'] == 'B']['revenue'],\n",
    "        )[1]))\n",
    "print('{0:.3f}'.format(\n",
    "        revenue_orders_filter[revenue_orders_filter['group'] == 'B']['revenue'].mean()\n",
    "        / revenue_orders_filter[revenue_orders_filter['group'] == 'A']['revenue'].mean()\n",
    "        - 1))"
   ]
  },
  {
   "cell_type": "markdown",
   "metadata": {},
   "source": [
    "#### Resposta do aluno: Os dados ja mudaram, com a eliminação dos dados anômalos, o tamanho médio dos pedido do grupo B mostra-se 4% menor que o A, e anteriormente ele era 8% maior!"
   ]
  },
  {
   "cell_type": "markdown",
   "metadata": {},
   "source": [
    "### Tome uma decisão com base nos resultados do teste. As decisões possíveis são: \n",
    "#### 1. Pare o teste, considere um dos grupos o líder. \n",
    "#### 2. Pare o teste, conclua que não há diferença entre os grupos. 3. Continue o teste."
   ]
  },
  {
   "cell_type": "markdown",
   "metadata": {},
   "source": [
    "<div class=\"alert alert-block alert-success\">\n",
    "<b> Resposta do aluno: </b> <a class=\"tocSkip\"></a>\n",
    "\n",
    "O meu voto é de interromper o teste, visto que que o grupo B mostrou-se inferior a versão original, não apresentou uma diferença significativa na conversão de pedidos, e o tamanho médio dos pedidos é 4% inferior em comparação ao A, é melhor manter a A. Acredito que rodar o teste por mais tempo para coletar mais dados o custo seria maior, e possívelmente inviável para a organização.\n",
    "</div>"
   ]
  },
  {
   "cell_type": "code",
   "execution_count": null,
   "metadata": {},
   "outputs": [],
   "source": []
  }
 ],
 "metadata": {
  "ExecuteTimeLog": [
   {
    "duration": 159,
    "start_time": "2024-10-28T17:40:09.899Z"
   },
   {
    "duration": 2507,
    "start_time": "2024-10-28T17:40:14.367Z"
   },
   {
    "duration": 23,
    "start_time": "2024-10-28T17:40:16.876Z"
   },
   {
    "duration": 8,
    "start_time": "2024-10-28T17:41:36.423Z"
   },
   {
    "duration": 11,
    "start_time": "2024-10-28T17:44:06.593Z"
   },
   {
    "duration": 7,
    "start_time": "2024-10-28T17:44:07.985Z"
   },
   {
    "duration": 9,
    "start_time": "2024-10-28T17:44:23.977Z"
   },
   {
    "duration": 9,
    "start_time": "2024-10-28T17:44:35.283Z"
   },
   {
    "duration": 71,
    "start_time": "2024-10-28T17:46:39.084Z"
   },
   {
    "duration": 5,
    "start_time": "2024-10-28T17:46:45.599Z"
   },
   {
    "duration": 14,
    "start_time": "2024-10-28T17:47:08.349Z"
   },
   {
    "duration": 8,
    "start_time": "2024-10-28T17:47:09.329Z"
   },
   {
    "duration": 4,
    "start_time": "2024-10-28T17:47:15.942Z"
   },
   {
    "duration": 5,
    "start_time": "2024-10-28T17:47:47.486Z"
   },
   {
    "duration": 13,
    "start_time": "2024-10-28T17:52:24.762Z"
   },
   {
    "duration": 4,
    "start_time": "2024-10-28T17:52:38.225Z"
   },
   {
    "duration": 17,
    "start_time": "2024-10-28T17:52:59.373Z"
   },
   {
    "duration": 3,
    "start_time": "2024-10-28T17:53:04.427Z"
   },
   {
    "duration": 11,
    "start_time": "2024-10-28T17:53:04.432Z"
   },
   {
    "duration": 10,
    "start_time": "2024-10-28T17:53:04.444Z"
   },
   {
    "duration": 9,
    "start_time": "2024-10-28T17:53:04.455Z"
   },
   {
    "duration": 8,
    "start_time": "2024-10-28T17:53:04.466Z"
   },
   {
    "duration": 5,
    "start_time": "2024-10-28T17:53:04.475Z"
   },
   {
    "duration": 6,
    "start_time": "2024-10-28T17:53:04.481Z"
   },
   {
    "duration": 44,
    "start_time": "2024-10-28T17:53:04.488Z"
   },
   {
    "duration": 2,
    "start_time": "2024-10-28T17:53:37.787Z"
   },
   {
    "duration": 12,
    "start_time": "2024-10-28T17:53:37.796Z"
   },
   {
    "duration": 8,
    "start_time": "2024-10-28T17:53:37.810Z"
   },
   {
    "duration": 9,
    "start_time": "2024-10-28T17:53:37.819Z"
   },
   {
    "duration": 9,
    "start_time": "2024-10-28T17:53:37.829Z"
   },
   {
    "duration": 6,
    "start_time": "2024-10-28T17:53:37.841Z"
   },
   {
    "duration": 5,
    "start_time": "2024-10-28T17:53:37.848Z"
   },
   {
    "duration": 3,
    "start_time": "2024-10-28T17:53:37.855Z"
   },
   {
    "duration": 306,
    "start_time": "2024-10-28T18:45:21.785Z"
   },
   {
    "duration": 6,
    "start_time": "2024-10-28T18:45:36.185Z"
   },
   {
    "duration": 7,
    "start_time": "2024-10-28T18:46:06.670Z"
   },
   {
    "duration": 7,
    "start_time": "2024-10-28T18:49:20.561Z"
   },
   {
    "duration": 9,
    "start_time": "2024-10-28T19:05:00.521Z"
   },
   {
    "duration": 12,
    "start_time": "2024-10-28T19:05:20.422Z"
   },
   {
    "duration": 13,
    "start_time": "2024-10-28T19:05:50.058Z"
   },
   {
    "duration": 12,
    "start_time": "2024-10-28T19:15:01.870Z"
   },
   {
    "duration": 12,
    "start_time": "2024-10-28T19:15:29.696Z"
   },
   {
    "duration": 12,
    "start_time": "2024-10-28T19:15:51.371Z"
   },
   {
    "duration": 11,
    "start_time": "2024-10-28T19:16:14.886Z"
   },
   {
    "duration": 14,
    "start_time": "2024-10-28T19:16:54.487Z"
   },
   {
    "duration": 18,
    "start_time": "2024-10-28T19:17:18.498Z"
   },
   {
    "duration": 26,
    "start_time": "2024-10-28T19:52:45.978Z"
   },
   {
    "duration": 14,
    "start_time": "2024-10-28T19:52:55.242Z"
   },
   {
    "duration": 10,
    "start_time": "2024-10-28T19:56:37.676Z"
   },
   {
    "duration": 4,
    "start_time": "2024-10-28T20:07:33.028Z"
   },
   {
    "duration": 8,
    "start_time": "2024-10-28T20:09:15.839Z"
   },
   {
    "duration": 3,
    "start_time": "2024-10-28T20:10:22.581Z"
   },
   {
    "duration": 17,
    "start_time": "2024-10-28T20:10:22.586Z"
   },
   {
    "duration": 8,
    "start_time": "2024-10-28T20:10:22.605Z"
   },
   {
    "duration": 11,
    "start_time": "2024-10-28T20:10:22.615Z"
   },
   {
    "duration": 8,
    "start_time": "2024-10-28T20:10:22.628Z"
   },
   {
    "duration": 4,
    "start_time": "2024-10-28T20:10:22.638Z"
   },
   {
    "duration": 5,
    "start_time": "2024-10-28T20:10:22.644Z"
   },
   {
    "duration": 5,
    "start_time": "2024-10-28T20:10:22.651Z"
   },
   {
    "duration": 9,
    "start_time": "2024-10-28T20:10:22.657Z"
   },
   {
    "duration": 8,
    "start_time": "2024-10-28T20:10:22.668Z"
   },
   {
    "duration": 2,
    "start_time": "2024-10-28T20:10:22.678Z"
   },
   {
    "duration": 2,
    "start_time": "2024-10-28T20:10:22.682Z"
   },
   {
    "duration": 46,
    "start_time": "2024-10-28T20:10:22.686Z"
   },
   {
    "duration": 2,
    "start_time": "2024-10-28T20:10:22.734Z"
   },
   {
    "duration": 3,
    "start_time": "2024-10-28T20:58:29.130Z"
   },
   {
    "duration": 286,
    "start_time": "2024-10-28T21:32:02.462Z"
   },
   {
    "duration": 6,
    "start_time": "2024-10-28T21:32:45.380Z"
   },
   {
    "duration": 7,
    "start_time": "2024-10-28T21:33:09.375Z"
   },
   {
    "duration": 7,
    "start_time": "2024-10-28T21:55:05.164Z"
   },
   {
    "duration": 7,
    "start_time": "2024-10-28T21:56:27.200Z"
   },
   {
    "duration": 10,
    "start_time": "2024-10-28T23:56:56.610Z"
   },
   {
    "duration": 16,
    "start_time": "2024-10-29T00:01:55.346Z"
   },
   {
    "duration": 3,
    "start_time": "2024-10-29T00:02:09.381Z"
   },
   {
    "duration": 16,
    "start_time": "2024-10-29T00:02:09.386Z"
   },
   {
    "duration": 7,
    "start_time": "2024-10-29T00:02:09.403Z"
   },
   {
    "duration": 9,
    "start_time": "2024-10-29T00:02:09.412Z"
   },
   {
    "duration": 8,
    "start_time": "2024-10-29T00:02:09.423Z"
   },
   {
    "duration": 4,
    "start_time": "2024-10-29T00:02:09.433Z"
   },
   {
    "duration": 5,
    "start_time": "2024-10-29T00:02:09.439Z"
   },
   {
    "duration": 4,
    "start_time": "2024-10-29T00:02:09.446Z"
   },
   {
    "duration": 10,
    "start_time": "2024-10-29T00:02:09.452Z"
   },
   {
    "duration": 8,
    "start_time": "2024-10-29T00:02:09.465Z"
   },
   {
    "duration": 6,
    "start_time": "2024-10-29T00:02:09.475Z"
   },
   {
    "duration": 7,
    "start_time": "2024-10-29T00:02:09.484Z"
   },
   {
    "duration": 14,
    "start_time": "2024-10-29T00:02:09.533Z"
   },
   {
    "duration": 0,
    "start_time": "2024-10-29T00:02:09.548Z"
   },
   {
    "duration": 9,
    "start_time": "2024-10-29T00:02:50.535Z"
   },
   {
    "duration": 134,
    "start_time": "2024-10-29T00:03:33.872Z"
   },
   {
    "duration": 8,
    "start_time": "2024-10-29T00:03:55.590Z"
   },
   {
    "duration": 167,
    "start_time": "2024-10-29T00:06:02.153Z"
   },
   {
    "duration": 116,
    "start_time": "2024-10-29T01:01:50.158Z"
   },
   {
    "duration": 114,
    "start_time": "2024-10-29T01:02:16.425Z"
   },
   {
    "duration": 104,
    "start_time": "2024-10-29T01:02:41.486Z"
   },
   {
    "duration": 250,
    "start_time": "2024-10-29T01:06:19.970Z"
   },
   {
    "duration": 228,
    "start_time": "2024-10-29T01:07:35.978Z"
   },
   {
    "duration": 220,
    "start_time": "2024-10-29T01:07:50.778Z"
   },
   {
    "duration": 293,
    "start_time": "2024-10-29T01:08:09.386Z"
   },
   {
    "duration": 142,
    "start_time": "2024-10-29T03:21:52.163Z"
   },
   {
    "duration": 3,
    "start_time": "2024-10-29T03:22:07.428Z"
   },
   {
    "duration": 15,
    "start_time": "2024-10-29T03:22:07.433Z"
   },
   {
    "duration": 8,
    "start_time": "2024-10-29T03:22:07.450Z"
   },
   {
    "duration": 8,
    "start_time": "2024-10-29T03:22:07.461Z"
   },
   {
    "duration": 7,
    "start_time": "2024-10-29T03:22:07.471Z"
   },
   {
    "duration": 4,
    "start_time": "2024-10-29T03:22:07.480Z"
   },
   {
    "duration": 5,
    "start_time": "2024-10-29T03:22:07.486Z"
   },
   {
    "duration": 5,
    "start_time": "2024-10-29T03:22:07.493Z"
   },
   {
    "duration": 12,
    "start_time": "2024-10-29T03:22:07.533Z"
   },
   {
    "duration": 9,
    "start_time": "2024-10-29T03:22:07.547Z"
   },
   {
    "duration": 6,
    "start_time": "2024-10-29T03:22:07.558Z"
   },
   {
    "duration": 8,
    "start_time": "2024-10-29T03:22:07.566Z"
   },
   {
    "duration": 278,
    "start_time": "2024-10-29T03:22:07.576Z"
   },
   {
    "duration": 2,
    "start_time": "2024-10-29T03:22:07.857Z"
   },
   {
    "duration": 187,
    "start_time": "2024-10-29T03:22:07.861Z"
   },
   {
    "duration": 36,
    "start_time": "2024-10-29T03:23:08.984Z"
   },
   {
    "duration": 37,
    "start_time": "2024-10-29T03:26:03.711Z"
   },
   {
    "duration": 2385,
    "start_time": "2024-10-29T12:18:21.595Z"
   },
   {
    "duration": 18,
    "start_time": "2024-10-29T12:18:23.982Z"
   },
   {
    "duration": 8,
    "start_time": "2024-10-29T12:18:24.002Z"
   },
   {
    "duration": 9,
    "start_time": "2024-10-29T12:18:24.011Z"
   },
   {
    "duration": 7,
    "start_time": "2024-10-29T12:18:24.022Z"
   },
   {
    "duration": 5,
    "start_time": "2024-10-29T12:18:24.030Z"
   },
   {
    "duration": 5,
    "start_time": "2024-10-29T12:18:24.036Z"
   },
   {
    "duration": 4,
    "start_time": "2024-10-29T12:18:24.043Z"
   },
   {
    "duration": 9,
    "start_time": "2024-10-29T12:18:24.048Z"
   },
   {
    "duration": 45,
    "start_time": "2024-10-29T12:18:24.060Z"
   },
   {
    "duration": 6,
    "start_time": "2024-10-29T12:18:24.107Z"
   },
   {
    "duration": 7,
    "start_time": "2024-10-29T12:18:24.114Z"
   },
   {
    "duration": 271,
    "start_time": "2024-10-29T12:18:24.123Z"
   },
   {
    "duration": 2,
    "start_time": "2024-10-29T12:18:24.396Z"
   },
   {
    "duration": 379,
    "start_time": "2024-10-29T12:18:24.400Z"
   },
   {
    "duration": 5,
    "start_time": "2024-10-29T13:17:03.992Z"
   },
   {
    "duration": 3,
    "start_time": "2024-10-29T13:23:00.817Z"
   },
   {
    "duration": 16,
    "start_time": "2024-10-29T13:23:00.822Z"
   },
   {
    "duration": 9,
    "start_time": "2024-10-29T13:23:00.839Z"
   },
   {
    "duration": 8,
    "start_time": "2024-10-29T13:23:00.849Z"
   },
   {
    "duration": 7,
    "start_time": "2024-10-29T13:23:00.860Z"
   },
   {
    "duration": 5,
    "start_time": "2024-10-29T13:23:00.868Z"
   },
   {
    "duration": 5,
    "start_time": "2024-10-29T13:23:00.874Z"
   },
   {
    "duration": 4,
    "start_time": "2024-10-29T13:23:00.907Z"
   },
   {
    "duration": 10,
    "start_time": "2024-10-29T13:23:00.912Z"
   },
   {
    "duration": 8,
    "start_time": "2024-10-29T13:23:00.923Z"
   },
   {
    "duration": 6,
    "start_time": "2024-10-29T13:23:00.933Z"
   },
   {
    "duration": 5,
    "start_time": "2024-10-29T13:23:00.941Z"
   },
   {
    "duration": 267,
    "start_time": "2024-10-29T13:23:00.949Z"
   },
   {
    "duration": 3,
    "start_time": "2024-10-29T13:23:01.218Z"
   },
   {
    "duration": 2,
    "start_time": "2024-10-29T13:23:01.224Z"
   },
   {
    "duration": 3,
    "start_time": "2024-10-29T13:23:01.227Z"
   },
   {
    "duration": 3,
    "start_time": "2024-10-29T13:23:01.232Z"
   },
   {
    "duration": 3,
    "start_time": "2024-10-29T13:23:01.237Z"
   },
   {
    "duration": 4,
    "start_time": "2024-10-29T14:59:24.074Z"
   },
   {
    "duration": 3,
    "start_time": "2024-10-29T14:59:53.297Z"
   },
   {
    "duration": 14,
    "start_time": "2024-10-29T14:59:53.303Z"
   },
   {
    "duration": 9,
    "start_time": "2024-10-29T14:59:53.318Z"
   },
   {
    "duration": 8,
    "start_time": "2024-10-29T14:59:53.328Z"
   },
   {
    "duration": 7,
    "start_time": "2024-10-29T14:59:53.338Z"
   },
   {
    "duration": 4,
    "start_time": "2024-10-29T14:59:53.348Z"
   },
   {
    "duration": 5,
    "start_time": "2024-10-29T14:59:53.354Z"
   },
   {
    "duration": 4,
    "start_time": "2024-10-29T14:59:53.361Z"
   },
   {
    "duration": 47,
    "start_time": "2024-10-29T14:59:53.366Z"
   },
   {
    "duration": 10,
    "start_time": "2024-10-29T14:59:53.414Z"
   },
   {
    "duration": 8,
    "start_time": "2024-10-29T14:59:53.426Z"
   },
   {
    "duration": 6,
    "start_time": "2024-10-29T14:59:53.437Z"
   },
   {
    "duration": 252,
    "start_time": "2024-10-29T14:59:53.445Z"
   },
   {
    "duration": 5,
    "start_time": "2024-10-29T14:59:53.700Z"
   },
   {
    "duration": 4,
    "start_time": "2024-10-29T14:59:53.707Z"
   },
   {
    "duration": 0,
    "start_time": "2024-10-29T14:59:53.713Z"
   },
   {
    "duration": 0,
    "start_time": "2024-10-29T14:59:53.714Z"
   },
   {
    "duration": 0,
    "start_time": "2024-10-29T14:59:53.715Z"
   },
   {
    "duration": 5,
    "start_time": "2024-10-29T15:01:27.772Z"
   },
   {
    "duration": 4,
    "start_time": "2024-10-29T15:01:44.480Z"
   },
   {
    "duration": 147,
    "start_time": "2024-10-29T15:02:12.534Z"
   },
   {
    "duration": 217,
    "start_time": "2024-10-29T16:31:23.031Z"
   },
   {
    "duration": 376,
    "start_time": "2024-10-29T16:44:39.601Z"
   },
   {
    "duration": 1068,
    "start_time": "2024-10-29T16:45:41.183Z"
   },
   {
    "duration": 365,
    "start_time": "2024-10-29T16:46:02.749Z"
   },
   {
    "duration": 372,
    "start_time": "2024-10-29T16:48:20.076Z"
   },
   {
    "duration": 356,
    "start_time": "2024-10-29T16:48:45.303Z"
   },
   {
    "duration": 347,
    "start_time": "2024-10-29T16:48:55.625Z"
   },
   {
    "duration": 366,
    "start_time": "2024-10-29T16:53:32.399Z"
   },
   {
    "duration": 359,
    "start_time": "2024-10-29T16:53:41.736Z"
   },
   {
    "duration": 131,
    "start_time": "2024-10-29T17:16:36.635Z"
   },
   {
    "duration": 121,
    "start_time": "2024-10-29T17:17:05.174Z"
   },
   {
    "duration": 123,
    "start_time": "2024-10-29T17:17:16.743Z"
   },
   {
    "duration": 129,
    "start_time": "2024-10-29T17:17:38.903Z"
   },
   {
    "duration": 125,
    "start_time": "2024-10-29T17:20:43.077Z"
   },
   {
    "duration": 456,
    "start_time": "2024-10-29T17:31:30.071Z"
   },
   {
    "duration": 196,
    "start_time": "2024-10-29T17:32:33.682Z"
   },
   {
    "duration": 188,
    "start_time": "2024-10-29T17:33:15.575Z"
   },
   {
    "duration": 188,
    "start_time": "2024-10-29T17:41:14.608Z"
   },
   {
    "duration": 220,
    "start_time": "2024-10-29T17:41:22.357Z"
   },
   {
    "duration": 228,
    "start_time": "2024-10-29T17:41:43.403Z"
   },
   {
    "duration": 422,
    "start_time": "2024-10-29T18:54:27.565Z"
   },
   {
    "duration": 274,
    "start_time": "2024-10-29T18:55:31.474Z"
   },
   {
    "duration": 204,
    "start_time": "2024-10-29T18:56:17.592Z"
   },
   {
    "duration": 147,
    "start_time": "2024-10-29T18:56:37.305Z"
   },
   {
    "duration": 149,
    "start_time": "2024-10-29T18:56:52.635Z"
   },
   {
    "duration": 133,
    "start_time": "2024-10-29T18:57:05.182Z"
   },
   {
    "duration": 313,
    "start_time": "2024-10-29T19:18:36.701Z"
   },
   {
    "duration": 201,
    "start_time": "2024-10-29T19:18:58.158Z"
   },
   {
    "duration": 243,
    "start_time": "2024-10-29T19:20:17.407Z"
   },
   {
    "duration": 239,
    "start_time": "2024-10-29T19:20:37.719Z"
   },
   {
    "duration": 242,
    "start_time": "2024-10-29T19:20:53.820Z"
   },
   {
    "duration": 240,
    "start_time": "2024-10-29T19:21:10.916Z"
   },
   {
    "duration": 195,
    "start_time": "2024-10-29T19:23:16.060Z"
   },
   {
    "duration": 10,
    "start_time": "2024-10-29T19:54:13.051Z"
   },
   {
    "duration": 7,
    "start_time": "2024-10-29T19:57:21.510Z"
   },
   {
    "duration": 39,
    "start_time": "2024-10-29T20:00:51.910Z"
   },
   {
    "duration": 8,
    "start_time": "2024-10-29T20:02:08.715Z"
   },
   {
    "duration": 117,
    "start_time": "2024-10-29T20:09:24.300Z"
   },
   {
    "duration": 108,
    "start_time": "2024-10-29T20:14:27.143Z"
   },
   {
    "duration": 109,
    "start_time": "2024-10-29T20:14:48.826Z"
   },
   {
    "duration": 113,
    "start_time": "2024-10-29T20:14:59.268Z"
   },
   {
    "duration": 104,
    "start_time": "2024-10-29T20:29:13.775Z"
   },
   {
    "duration": 82,
    "start_time": "2024-10-29T20:29:49.514Z"
   },
   {
    "duration": 97,
    "start_time": "2024-10-29T20:29:58.442Z"
   },
   {
    "duration": 85,
    "start_time": "2024-10-29T20:30:08.669Z"
   },
   {
    "duration": 3,
    "start_time": "2024-10-29T20:37:56.888Z"
   },
   {
    "duration": 110,
    "start_time": "2024-10-29T21:14:12.951Z"
   },
   {
    "duration": 3,
    "start_time": "2024-10-29T23:32:52.943Z"
   },
   {
    "duration": 15,
    "start_time": "2024-10-29T23:32:52.949Z"
   },
   {
    "duration": 9,
    "start_time": "2024-10-29T23:32:52.966Z"
   },
   {
    "duration": 11,
    "start_time": "2024-10-29T23:32:52.977Z"
   },
   {
    "duration": 9,
    "start_time": "2024-10-29T23:32:52.991Z"
   },
   {
    "duration": 4,
    "start_time": "2024-10-29T23:32:53.002Z"
   },
   {
    "duration": 9,
    "start_time": "2024-10-29T23:32:53.008Z"
   },
   {
    "duration": 4,
    "start_time": "2024-10-29T23:32:53.019Z"
   },
   {
    "duration": 9,
    "start_time": "2024-10-29T23:32:53.025Z"
   },
   {
    "duration": 9,
    "start_time": "2024-10-29T23:32:53.036Z"
   },
   {
    "duration": 8,
    "start_time": "2024-10-29T23:32:53.047Z"
   },
   {
    "duration": 6,
    "start_time": "2024-10-29T23:32:53.057Z"
   },
   {
    "duration": 257,
    "start_time": "2024-10-29T23:32:53.064Z"
   },
   {
    "duration": 2,
    "start_time": "2024-10-29T23:32:53.325Z"
   },
   {
    "duration": 356,
    "start_time": "2024-10-29T23:32:53.328Z"
   },
   {
    "duration": 138,
    "start_time": "2024-10-29T23:32:53.686Z"
   },
   {
    "duration": 229,
    "start_time": "2024-10-29T23:32:53.826Z"
   },
   {
    "duration": 150,
    "start_time": "2024-10-29T23:32:54.057Z"
   },
   {
    "duration": 236,
    "start_time": "2024-10-29T23:32:54.209Z"
   },
   {
    "duration": 114,
    "start_time": "2024-10-29T23:32:54.447Z"
   },
   {
    "duration": 90,
    "start_time": "2024-10-29T23:32:54.563Z"
   },
   {
    "duration": 112,
    "start_time": "2024-10-29T23:32:54.654Z"
   },
   {
    "duration": 2,
    "start_time": "2024-10-29T23:32:54.768Z"
   },
   {
    "duration": 3,
    "start_time": "2024-10-29T23:32:54.772Z"
   },
   {
    "duration": 3,
    "start_time": "2024-10-29T23:32:54.776Z"
   },
   {
    "duration": 2,
    "start_time": "2024-10-29T23:32:54.781Z"
   },
   {
    "duration": 20,
    "start_time": "2024-10-29T23:32:54.785Z"
   },
   {
    "duration": 126,
    "start_time": "2024-10-29T23:36:11.017Z"
   },
   {
    "duration": 117,
    "start_time": "2024-10-29T23:37:04.850Z"
   },
   {
    "duration": 117,
    "start_time": "2024-10-29T23:37:17.167Z"
   },
   {
    "duration": 10,
    "start_time": "2024-10-29T23:42:23.177Z"
   },
   {
    "duration": 150,
    "start_time": "2024-10-30T00:25:19.284Z"
   },
   {
    "duration": 151,
    "start_time": "2024-10-30T00:25:34.096Z"
   },
   {
    "duration": 3,
    "start_time": "2024-10-30T00:25:42.279Z"
   },
   {
    "duration": 14,
    "start_time": "2024-10-30T00:25:42.284Z"
   },
   {
    "duration": 9,
    "start_time": "2024-10-30T00:25:42.299Z"
   },
   {
    "duration": 8,
    "start_time": "2024-10-30T00:25:42.310Z"
   },
   {
    "duration": 8,
    "start_time": "2024-10-30T00:25:42.320Z"
   },
   {
    "duration": 4,
    "start_time": "2024-10-30T00:25:42.330Z"
   },
   {
    "duration": 5,
    "start_time": "2024-10-30T00:25:42.335Z"
   },
   {
    "duration": 5,
    "start_time": "2024-10-30T00:25:42.341Z"
   },
   {
    "duration": 9,
    "start_time": "2024-10-30T00:25:42.347Z"
   },
   {
    "duration": 50,
    "start_time": "2024-10-30T00:25:42.358Z"
   },
   {
    "duration": 6,
    "start_time": "2024-10-30T00:25:42.410Z"
   },
   {
    "duration": 9,
    "start_time": "2024-10-30T00:25:42.417Z"
   },
   {
    "duration": 261,
    "start_time": "2024-10-30T00:25:42.428Z"
   },
   {
    "duration": 2,
    "start_time": "2024-10-30T00:25:42.694Z"
   },
   {
    "duration": 366,
    "start_time": "2024-10-30T00:25:42.706Z"
   },
   {
    "duration": 139,
    "start_time": "2024-10-30T00:25:43.074Z"
   },
   {
    "duration": 246,
    "start_time": "2024-10-30T00:25:43.215Z"
   },
   {
    "duration": 146,
    "start_time": "2024-10-30T00:25:43.463Z"
   },
   {
    "duration": 241,
    "start_time": "2024-10-30T00:25:43.611Z"
   },
   {
    "duration": 130,
    "start_time": "2024-10-30T00:25:43.854Z"
   },
   {
    "duration": 93,
    "start_time": "2024-10-30T00:25:43.986Z"
   },
   {
    "duration": 25,
    "start_time": "2024-10-30T00:25:44.081Z"
   },
   {
    "duration": 144,
    "start_time": "2024-10-30T00:25:44.107Z"
   },
   {
    "duration": 0,
    "start_time": "2024-10-30T00:25:44.253Z"
   },
   {
    "duration": 0,
    "start_time": "2024-10-30T00:25:44.254Z"
   },
   {
    "duration": 0,
    "start_time": "2024-10-30T00:25:44.255Z"
   },
   {
    "duration": 0,
    "start_time": "2024-10-30T00:25:44.256Z"
   },
   {
    "duration": 3,
    "start_time": "2024-10-30T00:26:41.223Z"
   },
   {
    "duration": 128,
    "start_time": "2024-10-30T00:26:53.192Z"
   },
   {
    "duration": 9,
    "start_time": "2024-10-30T00:38:44.192Z"
   },
   {
    "duration": 8,
    "start_time": "2024-10-30T00:40:44.313Z"
   },
   {
    "duration": 46,
    "start_time": "2024-10-30T01:00:18.859Z"
   },
   {
    "duration": 9,
    "start_time": "2024-10-30T01:01:52.242Z"
   },
   {
    "duration": 119,
    "start_time": "2024-10-30T01:21:25.290Z"
   },
   {
    "duration": 127,
    "start_time": "2024-10-30T01:25:12.125Z"
   },
   {
    "duration": 123,
    "start_time": "2024-10-30T01:25:17.168Z"
   },
   {
    "duration": 121,
    "start_time": "2024-10-30T01:25:22.646Z"
   },
   {
    "duration": 12,
    "start_time": "2024-10-30T01:25:25.774Z"
   },
   {
    "duration": 3,
    "start_time": "2025-01-11T15:02:56.850Z"
   }
  ],
  "kernelspec": {
   "display_name": "Python 3 (ipykernel)",
   "language": "python",
   "name": "python3"
  },
  "language_info": {
   "codemirror_mode": {
    "name": "ipython",
    "version": 3
   },
   "file_extension": ".py",
   "mimetype": "text/x-python",
   "name": "python",
   "nbconvert_exporter": "python",
   "pygments_lexer": "ipython3",
   "version": "3.9.19"
  },
  "toc": {
   "base_numbering": 1,
   "nav_menu": {},
   "number_sections": true,
   "sideBar": true,
   "skip_h1_title": true,
   "title_cell": "Table of Contents",
   "title_sidebar": "Contents",
   "toc_cell": false,
   "toc_position": {},
   "toc_section_display": true,
   "toc_window_display": false
  }
 },
 "nbformat": 4,
 "nbformat_minor": 2
}
